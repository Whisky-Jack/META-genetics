{
 "cells": [
  {
   "cell_type": "code",
   "execution_count": 1,
   "metadata": {
    "tags": []
   },
   "outputs": [
    {
     "output_type": "stream",
     "name": "stdout",
     "text": "x_train shape: (60000, 28, 28, 1)\n60000 train samples\n10000 test samples\n"
    }
   ],
   "source": [
    "import numpy as np\n",
    "from tensorflow import keras\n",
    "\n",
    "# Model / data parameters\n",
    "num_classes = 10\n",
    "input_shape = (28, 28, 1)\n",
    "\n",
    "# the data, split between train and test sets\n",
    "(x_train, y_train), (x_test, y_test) = keras.datasets.mnist.load_data()\n",
    "\n",
    "# Scale images to the [0, 1] range\n",
    "x_train = x_train.astype(\"float32\") / 255\n",
    "x_test = x_test.astype(\"float32\") / 255\n",
    "\n",
    "# Make sure images have shape (28, 28, 1)\n",
    "x_train = np.expand_dims(x_train, -1)\n",
    "x_test = np.expand_dims(x_test, -1)\n",
    "print(\"x_train shape:\", x_train.shape)\n",
    "print(x_train.shape[0], \"train samples\")\n",
    "print(x_test.shape[0], \"test samples\")\n",
    "\n",
    "# convert class vectors to binary class matrices\n",
    "y_train = keras.utils.to_categorical(y_train, num_classes)\n",
    "y_test = keras.utils.to_categorical(y_test, num_classes)"
   ]
  },
  {
   "cell_type": "code",
   "execution_count": 2,
   "metadata": {
    "tags": []
   },
   "outputs": [
    {
     "output_type": "stream",
     "name": "stdout",
     "text": "WARNING:tensorflow:From /home/bingley/miniconda3/envs/metagen/lib/python3.6/site-packages/tensorflow/python/ops/init_ops.py:1251: calling VarianceScaling.__init__ (from tensorflow.python.ops.init_ops) with dtype is deprecated and will be removed in a future version.\nInstructions for updating:\nCall initializer instance with the dtype argument instead of passing it to the constructor\n"
    }
   ],
   "source": [
    "from classifier_net import ClassifierNet\n",
    "\n",
    "test_classifier = ClassifierNet(input_shape=input_shape, num_classes=num_classes)"
   ]
  },
  {
   "cell_type": "code",
   "execution_count": 3,
   "metadata": {
    "tags": []
   },
   "outputs": [
    {
     "output_type": "stream",
     "name": "stdout",
     "text": "Train on 54000 samples, validate on 6000 samples\n54000/54000 [==============================] - 2s 38us/sample - loss: 1.7082 - acc: 0.3544 - val_loss: 1.3394 - val_acc: 0.4763\n"
    }
   ],
   "source": [
    "test_classifier.train(x_train, y_train, epochs=1)"
   ]
  },
  {
   "cell_type": "code",
   "execution_count": 4,
   "metadata": {
    "tags": []
   },
   "outputs": [
    {
     "output_type": "stream",
     "name": "stdout",
     "text": "flatten\ndense\n[-0.07884736 -0.05742773  0.00931647 ...  0.26699978  0.\n  0.        ]\ndense_1\n[-0.13488224  0.50119114 -0.9888394   0.          0.         -0.75691766\n -1.0515034  -0.2670893   0.          0.          0.32542428  0.5256375\n  0.7960033   0.          0.          0.          0.          0.\n  0.          0.          0.          0.          0.          0.\n  0.          0.14138228  0.1822833   0.16337319  0.          0.        ]\ndense_2\n[-0.1185361   1.306247   -0.4157006   0.          0.         -0.25129402\n  0.952854    0.6146657   0.          0.          1.039692   -0.02880218\n -0.41010815  0.          0.          0.          0.          0.\n  0.          0.          0.          0.          0.          0.\n  0.          0.24509627 -0.02637718  0.47454077  0.          0.        ]\ndense_3\n[ 0.5076386  -0.04711919  0.14946395 -0.14371671 -0.5855098   0.19434243\n -0.34977672  0.70090955  0.03038925  0.8344366  -0.9906259   0.59248406\n -0.59647     0.51863223  0.01445855  0.          0.          0.\n  0.          0.          0.          0.          0.          0.\n  0.         -0.09265989  0.3391571  -0.3569434   0.33659422 -0.35344547]\n[-0.07884736 -0.05742773  0.00931647 ... -0.3569434   0.33659422\n -0.35344547]\n"
    }
   ],
   "source": [
    "test_weights = test_classifier.get_weights()\n",
    "print(test_weights[test_weights != 0.0])\n",
    "#print(test_classifier.get_training_data()['loss'])"
   ]
  },
  {
   "cell_type": "code",
   "execution_count": 5,
   "metadata": {
    "tags": []
   },
   "outputs": [
    {
     "output_type": "stream",
     "name": "stdout",
     "text": "Test loss: 1.3874889873504639\nTest accuracy: 0.4602\n"
    }
   ],
   "source": [
    "score = test_classifier.evaluate(x_test, y_test)\n",
    "\n",
    "print(\"Test loss:\", score[0])\n",
    "print(\"Test accuracy:\", score[1])"
   ]
  }
 ],
 "metadata": {
  "kernelspec": {
   "display_name": "Python 3.6.10 64-bit ('metagen': conda)",
   "language": "python",
   "name": "python361064bitmetagenconda1035d94c3cc945988df91c2077f6fbb9"
  },
  "language_info": {
   "codemirror_mode": {
    "name": "ipython",
    "version": 3
   },
   "file_extension": ".py",
   "mimetype": "text/x-python",
   "name": "python",
   "nbconvert_exporter": "python",
   "pygments_lexer": "ipython3",
   "version": "3.6.10-final"
  }
 },
 "nbformat": 4,
 "nbformat_minor": 4
}